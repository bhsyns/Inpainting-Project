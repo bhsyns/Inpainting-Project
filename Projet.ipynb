{
 "cells": [
  {
   "cell_type": "markdown",
   "id": "97cf4f9a",
   "metadata": {},
   "source": [
    "# Inpainting Project"
   ]
  },
  {
   "cell_type": "markdown",
   "id": "0bf5c817",
   "metadata": {},
   "source": [
    "importing libraries we are going to need :"
   ]
  },
  {
   "cell_type": "code",
   "execution_count": 22,
   "id": "365ec6bf",
   "metadata": {},
   "outputs": [],
   "source": [
    "import imageio as iio\n",
    "import numpy as np\n",
    "import matplotlib.pyplot as plt"
   ]
  },
  {
   "cell_type": "markdown",
   "id": "70a7b60e",
   "metadata": {},
   "source": [
    "### Image Reading"
   ]
  },
  {
   "cell_type": "code",
   "execution_count": 23,
   "id": "2bdd29fe",
   "metadata": {},
   "outputs": [
    {
     "name": "stdout",
     "output_type": "stream",
     "text": [
      "(100, 100)\n"
     ]
    }
   ],
   "source": [
    "#im=iio.imread('cat_grayscale.jpg',as_gray=True)\n",
    "im=np.identity(100)\n",
    "print(im.shape)"
   ]
  },
  {
   "cell_type": "markdown",
   "id": "b7e82923",
   "metadata": {},
   "source": [
    "### Image Display"
   ]
  },
  {
   "cell_type": "code",
   "execution_count": 24,
   "id": "17ac59c3",
   "metadata": {},
   "outputs": [],
   "source": [
    "def view(data, size=(5, 5), dpi=100):\n",
    "    \"\"\"\n",
    "    Image Dispaly\n",
    "    \"\"\"\n",
    "    fig = plt.figure()\n",
    "    fig.set_size_inches(size)\n",
    "    ax = plt.Axes(fig, [0., 0., 1., 1.])\n",
    "    ax.set_axis_off()\n",
    "    fig.add_axes(ax)\n",
    "    plt.set_cmap('gray')\n",
    "    ax.imshow(data)"
   ]
  },
  {
   "cell_type": "markdown",
   "id": "d2641b6e",
   "metadata": {},
   "source": [
    "### Rectangular mask creating function"
   ]
  },
  {
   "cell_type": "code",
   "execution_count": 25,
   "id": "e53c06b1",
   "metadata": {},
   "outputs": [],
   "source": [
    "def mask(im, x1, x2 , y1 , y2):\n",
    "    \"\"\"\n",
    "    Takes into argument image , and four coodinates and\n",
    "    produces mask that has image size \n",
    "    \"\"\"\n",
    "    shape = im.shape\n",
    "    mask = np.ones((shape[0],shape[1]), dtype=int)\n",
    "    for i in range(x1,x2):\n",
    "        for j in range(y1,y2):\n",
    "            mask[i,j]=0\n",
    "    return mask"
   ]
  },
  {
   "cell_type": "code",
   "execution_count": 26,
   "id": "5dc133b5",
   "metadata": {},
   "outputs": [],
   "source": [
    "def delete_zone(im,mask):\n",
    "    \"\"\"\n",
    "    Takes as argument image and mask and produces image with\n",
    "    nullified zone \n",
    "    \"\"\"\n",
    "    return im*mask"
   ]
  },
  {
   "cell_type": "markdown",
   "id": "43a39535",
   "metadata": {},
   "source": [
    "## Patch manipulations :"
   ]
  },
  {
   "cell_type": "code",
   "execution_count": 27,
   "id": "b49492fe",
   "metadata": {},
   "outputs": [],
   "source": [
    "def get_patch(image,p,patch_size=8):\n",
    "    \"\"\"\n",
    "    Returns a patch centered on p\n",
    "    \"\"\"\n",
    "    r=int(patch_size/2)\n",
    "    clip = image[p[0]-r:p[0]+r, p[1]-r:p[1]+r]\n",
    "    return clip    \n",
    "def similarity(patch1 , patch2):\n",
    "    return np.sum((patch1-patch2)**2)"
   ]
  },
  {
   "cell_type": "markdown",
   "id": "bf8259f4",
   "metadata": {},
   "source": [
    "# Let's calculate the priority term"
   ]
  },
  {
   "cell_type": "markdown",
   "id": "e8ea13fa",
   "metadata": {},
   "source": [
    "## Confidence term"
   ]
  },
  {
   "cell_type": "code",
   "execution_count": 28,
   "id": "1181ee7d",
   "metadata": {},
   "outputs": [
    {
     "name": "stderr",
     "output_type": "stream",
     "text": [
      "/tmp/ipykernel_14727/1286830374.py:7: RuntimeWarning: invalid value encountered in long_scalars\n",
      "  c[k,l]=np.sum(patch)/(patch.shape[0]*patch.shape[1])\n"
     ]
    },
    {
     "data": {
      "image/png": "[encoded data removed]",
      "text/plain": [
       "<Figure size 360x360 with 1 Axes>"
      ]
     },
     "metadata": {
      "needs_background": "light"
     },
     "output_type": "display_data"
    }
   ],
   "source": [
    "def c_matrix(mask):\n",
    "    n,m= mask.shape\n",
    "    c=np.zeros(mask.shape,dtype=np.float128)\n",
    "    for k in range(n):\n",
    "        for l in range(m):\n",
    "            patch = get_patch(mask,(k,l))\n",
    "            c[k,l]=np.sum(patch)/(patch.shape[0]*patch.shape[1])\n",
    "    return c\n",
    "\n",
    "view(c_matrix(mask(im, 10, 20 , 10, 20)))"
   ]
  },
  {
   "cell_type": "code",
   "execution_count": 29,
   "id": "6bb65998",
   "metadata": {},
   "outputs": [],
   "source": [
    "mask=mask(im, 10, 20 , 10, 20)"
   ]
  },
  {
   "cell_type": "code",
   "execution_count": 30,
   "id": "69d349ad",
   "metadata": {},
   "outputs": [],
   "source": [
    "#Bords du mask rectangulaire\n",
    "# We need to find out how to do it in general case \n",
    "def init_bord(mask):\n",
    "    \"\"\"\n",
    "    Finds frontieres of a rectangular mask\n",
    "    \"\"\"\n",
    "    n,m=mask.shape\n",
    "    x1=0\n",
    "    x2=0\n",
    "    y1=0\n",
    "    y1=0\n",
    "    i=0\n",
    "    j=0\n",
    "    while(mask[i][j]==1):\n",
    "        i+=1\n",
    "        if (i==n):\n",
    "            i=0\n",
    "            j+=1       \n",
    "    x1=i\n",
    "    y1=j\n",
    "    while(mask[i][j]==0):\n",
    "        i+=1\n",
    "        if (i==n):\n",
    "            x2=i\n",
    "            j+=1\n",
    "        if(j==m):\n",
    "            y2=j-1\n",
    "        if (mask[i][j]==1):\n",
    "            x2=i\n",
    "            i=x1\n",
    "            j+=1\n",
    "            y2=j  \n",
    "    frt = []\n",
    "    for i in [x1,x2+1]:\n",
    "        for j in range(y1,y2+1):\n",
    "            frt.append((i,j))\n",
    "    for i in [y1,y2+1]:\n",
    "        for j in range(x1,x2+1):\n",
    "            frt.append((j,i))\n",
    "    return frt\n",
    "\n",
    "def bord_matrix(mask,bord):\n",
    "    \"\"\"\n",
    "    frontiere in a matrix ( for display purpuses only)\n",
    "    \"\"\"\n",
    "    n,m=mask.shape\n",
    "    bord_matrix=np.zeros((n,m))\n",
    "    for i in range(n):\n",
    "        for j in range(m):\n",
    "            if((i,j) in old):\n",
    "                bord_matrix[i,j]=1\n",
    "    return bord_matrix\n",
    "\n",
    "def update_bord(border , mask , point):\n",
    "    patch = get_patch(mask,point)\n",
    "    r=len(patch)//2\n",
    "    x,y=point\n",
    "    for i in range(-r,r+1) :\n",
    "        if mask[x-r-1,y+i] == 0 : border.append((x-r-1,y+i))\n",
    "        if mask[x+r+1,y+i] == 0 : border.append((x+r+1,y+i))\n",
    "        if mask[x+i,y-r-1] == 0 : border.append((x+i,y-r-1))\n",
    "        if mask[x+i,y+r+1] == 0 : border.append((x+i,y+r+1))\n",
    "                       \n",
    "    for i in range(-r,r+1) :\n",
    "        for j in range(-r,r+1):\n",
    "            try :\n",
    "                border.remove((x+i,y+j))\n",
    "            except : \n",
    "                pass              \n",
    "    return border\n"
   ]
  },
  {
   "cell_type": "code",
   "execution_count": 31,
   "id": "36538c15",
   "metadata": {},
   "outputs": [
    {
     "data": {
      "image/png": "[encoded data removed]",
      "text/plain": [
       "<Figure size 360x360 with 1 Axes>"
      ]
     },
     "metadata": {
      "needs_background": "light"
     },
     "output_type": "display_data"
    },
    {
     "data": {
      "image/png": "[encoded data removed]",
      "text/plain": [
       "<Figure size 360x360 with 1 Axes>"
      ]
     },
     "metadata": {
      "needs_background": "light"
     },
     "output_type": "display_data"
    }
   ],
   "source": [
    "old = init_bord(mask)\n",
    "view(bord_matrix(mask,old))\n",
    "update_bord(old , mask , (20,20))\n",
    "view(bord_matrix(mask,old))"
   ]
  },
  {
   "cell_type": "code",
   "execution_count": 32,
   "id": "7383554f",
   "metadata": {},
   "outputs": [
    {
     "data": {
      "image/png": "[encoded data removed]",
      "text/plain": [
       "<Figure size 360x360 with 1 Axes>"
      ]
     },
     "metadata": {
      "needs_background": "light"
     },
     "output_type": "display_data"
    },
    {
     "data": {
      "image/png": "[encoded data removed]",
      "text/plain": [
       "<Figure size 360x360 with 1 Axes>"
      ]
     },
     "metadata": {
      "needs_background": "light"
     },
     "output_type": "display_data"
    }
   ],
   "source": [
    "def gradient_I(image , mask):\n",
    "        \"\"\"\n",
    "        We compute I(p) for all p in delta(\\Omega)\n",
    "        \"\"\"\n",
    "        h, w = image.shape[:2]\n",
    "        \n",
    "        # We fill the mask points with nones\n",
    "        image[mask == 1] = None\n",
    "        \n",
    "        # We compute the gradient \n",
    "        gradient = np.nan_to_num(np.array(np.gradient(image)))\n",
    "        norme = np.sqrt(gradient[0]**2 + gradient[1]**2)\n",
    "        \n",
    "        fgradx,fgrady = np.array([np.zeros([h, w]),np.zeros([h, w])])\n",
    "        frontiere = init_bord(mask)\n",
    "        \n",
    "        for point in frontiere:\n",
    "            patch = get_patch(image,point)\n",
    "            patch_gradx = get_patch(gradient[0], point)\n",
    "            patch_grady = get_patch(gradient[1], point)\n",
    "            patch_norm = get_patch(norme, point)\n",
    "            \n",
    "            max_patch = np.unravel_index(\n",
    "                patch_norm.argmax(),\n",
    "                patch_norm.shape\n",
    "            )\n",
    "            fgradx[point[0], point[1]] = patch_gradx[max_patch]\n",
    "            fgrady[point[0], point[1]] = patch_grady[max_patch]\n",
    "\n",
    "        return [fgradx,fgrady]\n",
    "    \n",
    "    \n",
    "I=gradient_I(im , mask)    \n",
    "view(I[0])\n",
    "view(I[1])"
   ]
  },
  {
   "cell_type": "code",
   "execution_count": 33,
   "id": "bf7dc411",
   "metadata": {},
   "outputs": [
    {
     "data": {
      "image/png": "[encoded data removed]",
      "text/plain": [
       "<Figure size 360x360 with 1 Axes>"
      ]
     },
     "metadata": {
      "needs_background": "light"
     },
     "output_type": "display_data"
    },
    {
     "data": {
      "image/png": "[encoded data removed]",
      "text/plain": [
       "<Figure size 360x360 with 1 Axes>"
      ]
     },
     "metadata": {
      "needs_background": "light"
     },
     "output_type": "display_data"
    }
   ],
   "source": [
    "def normal_vect(image,mask,bord) : #n(p)\n",
    "    h, w = mask.shape[:2]\n",
    "    coordx , coordy= np.zeros((h, w)),np.zeros((h, w))\n",
    "    for p in bord:\n",
    "        i,j=p\n",
    "        patch = get_patch(mask,(i,j))\n",
    "        grad = len(patch)*len(patch[0])*np.nan_to_num(np.array(np.gradient(patch)))\n",
    "        gradX = grad[0]\n",
    "        gradY = grad[1]\n",
    "        centerX, centerY = patch.shape[0]//2 ,patch.shape[1]//2\n",
    "        coordx[i][j] =gradX[centerX][centerY]\n",
    "        coordy[i][j] =gradY[centerX][centerY]\n",
    "    return coordy,coordx\n",
    "n=normal_vect(im,mask,init_bord(mask))\n",
    "view(n[0])\n",
    "view(n[1])"
   ]
  },
  {
   "cell_type": "code",
   "execution_count": 34,
   "id": "a663a156",
   "metadata": {},
   "outputs": [],
   "source": [
    "def P(image,mask,bordure):\n",
    "    \"Computes P for points of the bordure\"\n",
    "    h, w = mask.shape[:2]\n",
    "    P=np.zeros((h,w))\n",
    "    C=c_matrix(mask)\n",
    "    I=gradient_I(image , mask)\n",
    "    N=normal_vect(image,mask,bordure)\n",
    "    for (i,j) in bordure:\n",
    "        P[i][j]=np.abs(I[0][i][j]*N[0][i][j]+\n",
    "            I[1][i][j]*N[1][i][j])/255 * C[i][j]\n",
    "    return P\n",
    "\n",
    "def maxP(image,mask,bordure):\n",
    "    \"Finds point with max value of P\"\n",
    "    p=P(image,mask,bordure)\n",
    "    maximum=p[bordure[0]]\n",
    "    argmax=bordure[0]\n",
    "    for point in bordure:\n",
    "        i,j=point\n",
    "        if(p[i][j]>=maximum):\n",
    "            argmax=point\n",
    "    return argmax\n",
    "            \n",
    "        \n",
    "        "
   ]
  },
  {
   "cell_type": "code",
   "execution_count": 35,
   "id": "32b9fbd0",
   "metadata": {},
   "outputs": [
    {
     "name": "stdout",
     "output_type": "stream",
     "text": [
      "(20, 21)\n"
     ]
    },
    {
     "name": "stderr",
     "output_type": "stream",
     "text": [
      "/tmp/ipykernel_14727/1286830374.py:7: RuntimeWarning: invalid value encountered in long_scalars\n",
      "  c[k,l]=np.sum(patch)/(patch.shape[0]*patch.shape[1])\n"
     ]
    },
    {
     "data": {
      "image/png": "[encoded data removed]",
      "text/plain": [
       "<Figure size 360x360 with 1 Axes>"
      ]
     },
     "metadata": {
      "needs_background": "light"
     },
     "output_type": "display_data"
    }
   ],
   "source": [
    "view(P(im,mask,init_bord(mask)))\n",
    "print(maxP(im,mask,init_bord(mask)))"
   ]
  },
  {
   "cell_type": "markdown",
   "id": "a8a2504e",
   "metadata": {},
   "source": [
    "# Iteration Of the algorithm"
   ]
  },
  {
   "cell_type": "code",
   "execution_count": 54,
   "id": "46de3edf",
   "metadata": {},
   "outputs": [],
   "source": [
    "def iterate(image , mask , patchsize = 8):\n",
    "    bordure = init_bord(mask)\n",
    "    image=delete_zone(image,mask)\n",
    "    K=0\n",
    "    while (len(bordure)>0):\n",
    "        p_point=maxP(image,mask,bordure)\n",
    "        p_patch=get_patch(image,p_point)\n",
    "        start = (patchsize,patchsize)\n",
    "        new_patch = get_patch(image, start)\n",
    "        d = similarity(new_patch,p_patch)\n",
    "        X,Y =0,0\n",
    "        chosenX,chosenY = p_point\n",
    "        for x in range (patchsize, image.shape[0]-patchsize):\n",
    "                for y in range (patchsize,image.shape[1]-patchsize) :\n",
    "                    potential = True\n",
    "                    for i in range(x-patchsize,x+patchsize+1):\n",
    "                        for j in range(y-patchsize,y+patchsize+1):\n",
    "                            potential = (mask[i,j]!= 0)\n",
    "                    if potential :\n",
    "                        testPatch = get_patch(image,(x,y))\n",
    "                        dtest = similarity(p_patch,new_patch)\n",
    "                        if dtest < d :\n",
    "                            d = dtest\n",
    "                            new_patch = testPatch\n",
    "                            X,Y = x,y\n",
    "        \n",
    "        update_bord(mask,bordure,(chosenX,chosenY))\n",
    "\n",
    "        for i in range(-r,r+1) :\n",
    "            for j in range(-r,r+1):\n",
    "                mask[chosenX+i,chosenY+j]= 1\n",
    "                image[chosenX+i,chosenY+j]= new_patch[r+i,r+j]\n",
    "\n",
    "\n",
    "        if K%10==0 :\n",
    "            view(image)\n",
    "            iio.imwrite(\"output/\"+str(K)+\".tif\", image)\n",
    "\n",
    "        print(len(bordure))\n",
    "        K+=1"
   ]
  },
  {
   "cell_type": "code",
   "execution_count": 55,
   "id": "b2215c5e",
   "metadata": {},
   "outputs": [
    {
     "name": "stderr",
     "output_type": "stream",
     "text": [
      "/tmp/ipykernel_14727/1286830374.py:7: RuntimeWarning: invalid value encountered in long_scalars\n",
      "  c[k,l]=np.sum(patch)/(patch.shape[0]*patch.shape[1])\n"
     ]
    },
    {
     "ename": "TypeError",
     "evalue": "list indices must be integers or slices, not tuple",
     "output_type": "error",
     "traceback": [
      "\u001b[0;31m---------------------------------------------------------------------------\u001b[0m",
      "\u001b[0;31mTypeError\u001b[0m                                 Traceback (most recent call last)",
      "Input \u001b[0;32mIn [55]\u001b[0m, in \u001b[0;36m<cell line: 1>\u001b[0;34m()\u001b[0m\n\u001b[0;32m----> 1\u001b[0m \u001b[43miterate\u001b[49m\u001b[43m(\u001b[49m\u001b[43mim\u001b[49m\u001b[43m \u001b[49m\u001b[43m,\u001b[49m\u001b[43m \u001b[49m\u001b[43mmask\u001b[49m\u001b[43m \u001b[49m\u001b[43m,\u001b[49m\u001b[43m \u001b[49m\u001b[43mpatchsize\u001b[49m\u001b[43m \u001b[49m\u001b[38;5;241;43m=\u001b[39;49m\u001b[43m \u001b[49m\u001b[38;5;241;43m8\u001b[39;49m\u001b[43m)\u001b[49m\n",
      "Input \u001b[0;32mIn [54]\u001b[0m, in \u001b[0;36miterate\u001b[0;34m(image, mask, patchsize)\u001b[0m\n\u001b[1;32m     24\u001b[0m                     new_patch \u001b[38;5;241m=\u001b[39m testPatch\n\u001b[1;32m     25\u001b[0m                     X,Y \u001b[38;5;241m=\u001b[39m x,y\n\u001b[0;32m---> 27\u001b[0m \u001b[43mupdate_bord\u001b[49m\u001b[43m(\u001b[49m\u001b[43mmask\u001b[49m\u001b[43m,\u001b[49m\u001b[43mbordure\u001b[49m\u001b[43m,\u001b[49m\u001b[43m(\u001b[49m\u001b[43mchosenX\u001b[49m\u001b[43m,\u001b[49m\u001b[43mchosenY\u001b[49m\u001b[43m)\u001b[49m\u001b[43m)\u001b[49m\n\u001b[1;32m     29\u001b[0m \u001b[38;5;28;01mfor\u001b[39;00m i \u001b[38;5;129;01min\u001b[39;00m \u001b[38;5;28mrange\u001b[39m(\u001b[38;5;241m-\u001b[39mr,r\u001b[38;5;241m+\u001b[39m\u001b[38;5;241m1\u001b[39m) :\n\u001b[1;32m     30\u001b[0m     \u001b[38;5;28;01mfor\u001b[39;00m j \u001b[38;5;129;01min\u001b[39;00m \u001b[38;5;28mrange\u001b[39m(\u001b[38;5;241m-\u001b[39mr,r\u001b[38;5;241m+\u001b[39m\u001b[38;5;241m1\u001b[39m):\n",
      "Input \u001b[0;32mIn [30]\u001b[0m, in \u001b[0;36mupdate_bord\u001b[0;34m(border, mask, point)\u001b[0m\n\u001b[1;32m     54\u001b[0m \u001b[38;5;28;01mdef\u001b[39;00m \u001b[38;5;21mupdate_bord\u001b[39m(border , mask , point):\n\u001b[0;32m---> 55\u001b[0m     patch \u001b[38;5;241m=\u001b[39m \u001b[43mget_patch\u001b[49m\u001b[43m(\u001b[49m\u001b[43mmask\u001b[49m\u001b[43m,\u001b[49m\u001b[43mpoint\u001b[49m\u001b[43m)\u001b[49m\n\u001b[1;32m     56\u001b[0m     r\u001b[38;5;241m=\u001b[39m\u001b[38;5;28mlen\u001b[39m(patch)\u001b[38;5;241m/\u001b[39m\u001b[38;5;241m/\u001b[39m\u001b[38;5;241m2\u001b[39m\n\u001b[1;32m     57\u001b[0m     x,y\u001b[38;5;241m=\u001b[39mpoint\n",
      "Input \u001b[0;32mIn [27]\u001b[0m, in \u001b[0;36mget_patch\u001b[0;34m(image, p, patch_size)\u001b[0m\n\u001b[1;32m      2\u001b[0m \u001b[38;5;124;03m\"\"\"\u001b[39;00m\n\u001b[1;32m      3\u001b[0m \u001b[38;5;124;03mReturns a patch centered on p\u001b[39;00m\n\u001b[1;32m      4\u001b[0m \u001b[38;5;124;03m\"\"\"\u001b[39;00m\n\u001b[1;32m      5\u001b[0m r\u001b[38;5;241m=\u001b[39m\u001b[38;5;28mint\u001b[39m(patch_size\u001b[38;5;241m/\u001b[39m\u001b[38;5;241m2\u001b[39m)\n\u001b[0;32m----> 6\u001b[0m clip \u001b[38;5;241m=\u001b[39m \u001b[43mimage\u001b[49m\u001b[43m[\u001b[49m\u001b[43mp\u001b[49m\u001b[43m[\u001b[49m\u001b[38;5;241;43m0\u001b[39;49m\u001b[43m]\u001b[49m\u001b[38;5;241;43m-\u001b[39;49m\u001b[43mr\u001b[49m\u001b[43m:\u001b[49m\u001b[43mp\u001b[49m\u001b[43m[\u001b[49m\u001b[38;5;241;43m0\u001b[39;49m\u001b[43m]\u001b[49m\u001b[38;5;241;43m+\u001b[39;49m\u001b[43mr\u001b[49m\u001b[43m,\u001b[49m\u001b[43m \u001b[49m\u001b[43mp\u001b[49m\u001b[43m[\u001b[49m\u001b[38;5;241;43m1\u001b[39;49m\u001b[43m]\u001b[49m\u001b[38;5;241;43m-\u001b[39;49m\u001b[43mr\u001b[49m\u001b[43m:\u001b[49m\u001b[43mp\u001b[49m\u001b[43m[\u001b[49m\u001b[38;5;241;43m1\u001b[39;49m\u001b[43m]\u001b[49m\u001b[38;5;241;43m+\u001b[39;49m\u001b[43mr\u001b[49m\u001b[43m]\u001b[49m\n\u001b[1;32m      7\u001b[0m \u001b[38;5;28;01mreturn\u001b[39;00m clip\n",
      "\u001b[0;31mTypeError\u001b[0m: list indices must be integers or slices, not tuple"
     ]
    }
   ],
   "source": [
    "iterate(im , mask , patchsize = 8)"
   ]
  },
  {
   "cell_type": "code",
   "execution_count": null,
   "id": "f8390896",
   "metadata": {},
   "outputs": [],
   "source": []
  },
  {
   "cell_type": "code",
   "execution_count": null,
   "id": "1ae40f8c",
   "metadata": {},
   "outputs": [],
   "source": []
  },
  {
   "cell_type": "code",
   "execution_count": null,
   "id": "1de2eea8",
   "metadata": {},
   "outputs": [],
   "source": []
  },
  {
   "cell_type": "code",
   "execution_count": null,
   "id": "b9927f74",
   "metadata": {},
   "outputs": [],
   "source": []
  }
 ],
 "metadata": {
  "kernelspec": {
   "display_name": "Python 3 (ipykernel)",
   "language": "python",
   "name": "python3"
  },
  "language_info": {
   "codemirror_mode": {
    "name": "ipython",
    "version": 3
   },
   "file_extension": ".py",
   "mimetype": "text/x-python",
   "name": "python",
   "nbconvert_exporter": "python",
   "pygments_lexer": "ipython3",
   "version": "3.8.10"
  }
 },
 "nbformat": 4,
 "nbformat_minor": 5
}
