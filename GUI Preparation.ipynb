{
 "cells": [
  {
   "cell_type": "markdown",
   "id": "eebcca12",
   "metadata": {},
   "source": [
    "# 1st idea : using PyGame"
   ]
  },
  {
   "cell_type": "markdown",
   "id": "4a40e266",
   "metadata": {},
   "source": [
    "using pygame's plugins\n",
    "+ https://pygame.readthedocs.io/en/latest/6_gui/gui.html"
   ]
  },
  {
   "cell_type": "code",
   "execution_count": 4,
   "id": "195a07b9",
   "metadata": {},
   "outputs": [],
   "source": [
    "import pygame\n",
    "from pygame.locals import *\n",
    "import tkinter.filedialog"
   ]
  },
  {
   "cell_type": "code",
   "execution_count": 5,
   "id": "fe28414b",
   "metadata": {},
   "outputs": [],
   "source": [
    "def prompt_file():\n",
    "    \"\"\"Create a Tk file dialog and cleanup when finished\"\"\"\n",
    "    top = tkinter.Tk()\n",
    "    top.withdraw()  # hide window\n",
    "    file_name = tkinter.filedialog.askopenfilename(parent=top)\n",
    "    return file_name"
   ]
  },
  {
   "cell_type": "code",
   "execution_count": 6,
   "id": "47c83c8e",
   "metadata": {},
   "outputs": [],
   "source": [
    "\"\"\"Move an image with the mouse.\"\"\"\n",
    "\n",
    "\n",
    "RED = (255, 0, 0)\n",
    "GRAY = (150, 150, 150)\n",
    "\n",
    "pygame.init()\n",
    "pygame.display.set_caption('Select Region To delete')\n",
    "img = pygame.image.load(prompt_file())\n",
    "w,h=img.get_size()\n",
    "screen = pygame.display.set_mode((w+50,h))\n",
    "rect = img.get_rect()\n",
    "img.convert()\n",
    "rect.center = w//2, h//2\n",
    "drawing = False\n",
    "running= True\n",
    "\n",
    "while running:\n",
    "    for event in pygame.event.get():\n",
    "        if event.type == QUIT:\n",
    "            running = False\n",
    "\n",
    "        elif event.type == MOUSEBUTTONDOWN:\n",
    "            if rect.collidepoint(event.pos):\n",
    "                drawing = True\n",
    "\n",
    "        elif event.type == MOUSEBUTTONUP:\n",
    "            drawing = False\n",
    "\n",
    "        elif event.type == MOUSEMOTION and drawing:\n",
    "            rect.move_ip(event.rel)\n",
    "    \n",
    "    screen.fill(GRAY)\n",
    "    screen.blit(img, rect)\n",
    "    pygame.draw.rect(screen, RED, rect, 1)\n",
    "    pygame.display.update()\n",
    "\n",
    "pygame.quit()"
   ]
  },
  {
   "cell_type": "code",
   "execution_count": null,
   "id": "a63c1368",
   "metadata": {},
   "outputs": [],
   "source": []
  },
  {
   "cell_type": "code",
   "execution_count": null,
   "id": "b2a22eb1",
   "metadata": {},
   "outputs": [],
   "source": []
  }
 ],
 "metadata": {
  "kernelspec": {
   "display_name": "Python 3 (ipykernel)",
   "language": "python",
   "name": "python3"
  },
  "language_info": {
   "codemirror_mode": {
    "name": "ipython",
    "version": 3
   },
   "file_extension": ".py",
   "mimetype": "text/x-python",
   "name": "python",
   "nbconvert_exporter": "python",
   "pygments_lexer": "ipython3",
   "version": "3.8.10"
  }
 },
 "nbformat": 4,
 "nbformat_minor": 5
}
